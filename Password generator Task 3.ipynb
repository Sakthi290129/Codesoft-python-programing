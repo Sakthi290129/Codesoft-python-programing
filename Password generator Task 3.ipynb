{
 "cells": [
  {
   "cell_type": "code",
   "execution_count": 1,
   "id": "89b6cf61",
   "metadata": {},
   "outputs": [
    {
     "name": "stdout",
     "output_type": "stream",
     "text": [
      "Enter the length of password  8\n",
      "How many passwords do you want  2\n",
      "Here is your password QjYyl$DP\n",
      "Here is your password RkX&m_nQ\n",
      "Do you wants to generate another passwords?(Y/N)n\n",
      "Thanks for using password generator!\n"
     ]
    }
   ],
   "source": [
    "#Random Password Generator in which user can spacify length and number of passwords.\n",
    "\n",
    "import random \n",
    "\n",
    "characters = \"abcdefghijklmnopqrstuvwxyzABCDEFGHIJKLMNOPQRSTUVWXYZ123456789!@#$%^&*_\"\n",
    "\n",
    "while True:\n",
    "    password_length = int(input('Enter the length of password  '))\n",
    "    password_count = int(input('How many passwords do you want  '))\n",
    "\n",
    "    for i in range(0, password_count):\n",
    "        password = ''\n",
    "        for j in range(0, password_length):\n",
    "            pass_char = random.choice(characters)\n",
    "            password = password + pass_char\n",
    "        print('Here is your password', password)\n",
    "    repeat= input('Do you wants to generate another passwords?(Y/N)').lower()\n",
    "    if repeat == 'n' :\n",
    "        break\n",
    "\n",
    "print('Thanks for using password generator!')\n",
    "    "
   ]
  },
  {
   "cell_type": "code",
   "execution_count": null,
   "id": "b1e194eb",
   "metadata": {},
   "outputs": [],
   "source": []
  }
 ],
 "metadata": {
  "kernelspec": {
   "display_name": "Python3",
   "language": "python",
   "name": "python3"
  },
  "language_info": {
   "codemirror_mode": {
    "name": "ipython",
    "version": 3
   },
   "file_extension": ".py",
   "mimetype": "text/x-python",
   "name": "python",
   "nbconvert_exporter": "python",
   "pygments_lexer": "ipython3",
   "version": "3.9.7"
  }
 },
 "nbformat": 4,
 "nbformat_minor": 5
}
