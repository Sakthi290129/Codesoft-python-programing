{
 "cells": [
  {
   "cell_type": "code",
   "execution_count": null,
   "id": "aed88215",
   "metadata": {},
   "outputs": [
    {
     "name": "stdout",
     "output_type": "stream",
     "text": [
      "Welcome to the calculator! Here are 2 calculators, one takes separate arguments and the other takes an expression like '2+2'. Try to learn more. \n",
      " \n",
      "\n",
      "Which calculator do you want to use? (calculator or calculator2 (1 / 2). Press 'q' to quit.)1\n",
      "Enter first number: 22\n",
      "Enter second number: 35\n",
      "Enter operation (+, -, *, /): +\n",
      "57.0\n"
     ]
    }
   ],
   "source": [
    "\n",
    "# Simple Arithmatic Culculator\n",
    "\n",
    "def calculator():\n",
    "  num1 = float(input(\"Enter first number: \"))\n",
    "\n",
    "  num2 = float(input(\"Enter second number: \"))\n",
    "\n",
    "  operation = input(\"Enter operation (+, -, *, /): \")\n",
    "\n",
    "  if operation == '+':\n",
    "    print(num1 + num2)\n",
    "  elif operation == '-':\n",
    "    print(num1 - num2)\n",
    "  elif operation == '*':\n",
    "    print(num1 * num2)\n",
    "  elif operation == '/':\n",
    "    if num2 != 0:\n",
    "      print(num1 / num2)\n",
    "    else:\n",
    "      print(\"Cannot divide by zero\")\n",
    "  else:\n",
    "    print(\"Invalid operation\")\n",
    "\n",
    "\n",
    "def calculator2():\n",
    "  expression = input(\"Enter an expression: \")\n",
    "\n",
    "  result = eval(expression)\n",
    "  print(result)\n",
    "\n",
    "\n",
    "intro_message = \"Welcome to the calculator! Here are 2 calculators, one takes separate arguments and the other takes an expression like '2+2'. Try to learn more. \\n \\n\"\n",
    "\n",
    "print(intro_message)\n",
    "\n",
    "while True:\n",
    "\n",
    "  ask = input(\n",
    "      \"Which calculator do you want to use? (calculator or calculator2 (1 / 2). Press 'q' to quit.)\"\n",
    "  )\n",
    "  if ask == '1':\n",
    "    calculator()\n",
    "  elif ask == '2':\n",
    "    calculator2()\n",
    "  elif ask == 'q':\n",
    "    break\n",
    "  else:\n",
    "    print(\"Please enter a valid option.\")\n",
    "\n",
    "# This will Take review from user and will save in user_reviews.txt.\n",
    "rating = int(input(\"Rate this app from 1 to 10: \"))\n",
    "review = input(\"Enter your review: \")\n",
    "name = input(\"Enter your name: \")\n",
    "\n",
    "\n",
    "with open('user_reviews.txt', 'a') as file:\n",
    "  file.write(f\"Name: {name}, Rating: {rating}, Review: {review}\\n\")\n",
    "print('Thanks for your review!')"
   ]
  },
  {
   "cell_type": "code",
   "execution_count": null,
   "id": "f5411d32",
   "metadata": {},
   "outputs": [],
   "source": []
  }
 ],
 "metadata": {
  "kernelspec": {
   "display_name": "Python3",
   "language": "python",
   "name": "python3"
  },
  "language_info": {
   "codemirror_mode": {
    "name": "ipython",
    "version": 3
   },
   "file_extension": ".py",
   "mimetype": "text/x-python",
   "name": "python",
   "nbconvert_exporter": "python",
   "pygments_lexer": "ipython3",
   "version": "3.9.7"
  }
 },
 "nbformat": 4,
 "nbformat_minor": 5
}
